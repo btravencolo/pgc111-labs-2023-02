{
 "cells": [
  {
   "attachments": {},
   "cell_type": "markdown",
   "metadata": {},
   "source": [
    "**Usando o markdown**\n",
    "\n",
    "Markdown são usados para comentários e enunciados. Pesquise na web como usá-los"
   ]
  },
  {
   "cell_type": "code",
   "execution_count": 2,
   "metadata": {},
   "outputs": [
    {
     "name": "stdout",
     "output_type": "stream",
     "text": [
      "5\n",
      "1\n"
     ]
    }
   ],
   "source": [
    "# iniciando com python\n",
    "# https://www.facom.ufu.br/~wendelmelo/meu_material/introducao_programacao_python_wendel_melo.pdf\n",
    "\n",
    "x = 2 +3\n",
    "a = 1\n",
    "print(x)\n",
    "print(a)"
   ]
  },
  {
   "attachments": {},
   "cell_type": "markdown",
   "metadata": {},
   "source": [
    "https://www.facom.ufu.br/~wendelmelo/pythontw201901/aula_numpy.txt\n",
    "\n",
    "numerical python\n",
    "o propósito do numpy é facilitar computação numérica, científica e matricial\n",
    "\n",
    "Numpy disponibiliza duas classes principais:\n",
    "array: array de qualquer dimensão\n",
    "matrix: representa matrizes de duas dimensões (linhas e colunas)\n",
    "\n",
    "Instalar o pacote (shell):\n",
    "pip3 install -U numpy\n",
    "\n",
    "import numpy as np\n",
    "A = np.matrix(  [ [1,2], [3,4]  ]    )\n"
   ]
  },
  {
   "cell_type": "code",
   "execution_count": 3,
   "metadata": {},
   "outputs": [
    {
     "data": {
      "text/plain": [
       "matrix([[ 1,  2,  3,  4],\n",
       "        [ 5,  6,  7,  8],\n",
       "        [ 9, 10, 11, 12]])"
      ]
     },
     "execution_count": 3,
     "metadata": {},
     "output_type": "execute_result"
    }
   ],
   "source": [
    "import numpy as np\n",
    "A = np.matrix(  [ [1,2 ,3 ,4 ], [5,6,7,8],[ 9,10,11,12]  ] )   \n",
    "A"
   ]
  },
  {
   "cell_type": "code",
   "execution_count": 4,
   "metadata": {},
   "outputs": [
    {
     "data": {
      "text/plain": [
       "numpy.matrix"
      ]
     },
     "execution_count": 4,
     "metadata": {},
     "output_type": "execute_result"
    }
   ],
   "source": [
    "#a variável A aponta para uma matriz de duas linhas e duas colunas\n",
    "type(A)\n"
   ]
  },
  {
   "cell_type": "code",
   "execution_count": 4,
   "metadata": {},
   "outputs": [
    {
     "name": "stdout",
     "output_type": "stream",
     "text": [
      "Matrix\n",
      "[[ 1  2  3  4]\n",
      " [ 5  6  7  8]\n",
      " [ 9 10 11 12]]\n",
      "Acessos\n",
      "2\n",
      "[[5 6 7 8]]\n",
      "[[5 6 7 8]]\n",
      "[[1]\n",
      " [5]\n",
      " [9]]\n"
     ]
    }
   ],
   "source": [
    "#acessando um elemento da matriz\n",
    "print(\"Matrix\")\n",
    "print(A)\n",
    "print(\"Acessos\")\n",
    "print(A[0, 1])#acessa o elemento na linha 0 e na coluna 1\n",
    "print(A[1]) #acessa a linha 1 da matriz\n",
    "print(A[1,:]) #acessa a linha 1 da matriz. Dois pontos significa \"todas\" - se na primeira dimensão, todas as linhas\n",
    "print(A[:, 0])  #acessa toda a coluna 0 da matriz. Dois pontos significa \"todas\" - se na primeira dimensão, todas as linhas\n",
    "\n"
   ]
  },
  {
   "cell_type": "code",
   "execution_count": 5,
   "metadata": {},
   "outputs": [
    {
     "name": "stdout",
     "output_type": "stream",
     "text": [
      "Matrix\n",
      "[[ 1  2  3  4]\n",
      " [ 5  6  7  8]\n",
      " [ 9 10 11 12]]\n",
      "Acesso [0:2,1]\n",
      "[[2]\n",
      " [6]]\n",
      "Acessos [0:2,1:4:2]\n",
      "[[2 4]\n",
      " [6 8]]\n",
      "Mostrando a matriz com as linhas reversas\n",
      "[[ 9 10 11 12]\n",
      " [ 5  6  7  8]\n",
      " [ 1  2  3  4]]\n"
     ]
    }
   ],
   "source": [
    "#acessando um elemento da matriz com : (python slice) ==> inicio:fim:passo\n",
    "# doc completa: https://docs.python.org/3/library/stdtypes.html#typesseq\n",
    "# se início é omitido, fica com a coluna 0. Ex: :1:1\n",
    "# se fim é omitido, vai até o final da dimensão. Ex 1::1\n",
    "# se o passo é omitido, é assumido valor 1. Ex: 1:2\n",
    "print(\"Matrix\")\n",
    "print(A)\n",
    "print(\"Acesso [0:2,1]\")\n",
    "print(A[0:2, 1])#acessa o elemento na linha 0 até a linha 1 (ou seja, 2-1 = 1) e na coluna 1\n",
    "print(\"Acessos [0:2,1:4:2]\")\n",
    "print(A[0:2, 1:4:2])#acessa o elemento na linha 0 até a linha 1 (ou seja, 2-1 = 1) e iniciando na coluna 1, pulando uma coluna  e indo até a colune 4-1=3\n",
    "print(\"Mostrando a matriz com as linhas reversas\")\n",
    "print(A[::-1,:]) \n",
    "\n"
   ]
  },
  {
   "cell_type": "code",
   "execution_count": 6,
   "metadata": {},
   "outputs": [
    {
     "data": {
      "text/plain": [
       "array([[0., 0., 0., 0., 0.],\n",
       "       [0., 0., 0., 0., 0.],\n",
       "       [0., 0., 0., 0., 0.],\n",
       "       [0., 0., 0., 0., 0.]])"
      ]
     },
     "execution_count": 6,
     "metadata": {},
     "output_type": "execute_result"
    }
   ],
   "source": [
    "\n",
    "#a função zeros gera um array de zeros\n",
    "Z = np.zeros(  (4,5)    )\n",
    "Z\n"
   ]
  },
  {
   "cell_type": "code",
   "execution_count": 7,
   "metadata": {},
   "outputs": [
    {
     "data": {
      "text/plain": [
       "matrix([[-10,   5],\n",
       "        [ -3,  -6],\n",
       "        [ -8,  -8]])"
      ]
     },
     "execution_count": 7,
     "metadata": {},
     "output_type": "execute_result"
    }
   ],
   "source": [
    "#podemos gerar matrizes de números aleatórios\n",
    "import numpy.random as npr\n",
    "N = np.matrix(   npr.randint(-10, 10, (3, 2)  )    )  #gera matriz de numeros inteiros aleatorios entre -10 e 10, tendo 3 linhas e 2 colunas\n",
    "N"
   ]
  },
  {
   "cell_type": "code",
   "execution_count": 8,
   "metadata": {},
   "outputs": [
    {
     "data": {
      "text/plain": [
       "matrix([[ 0,  1],\n",
       "        [-8,  8],\n",
       "        [-7,  1]])"
      ]
     },
     "execution_count": 8,
     "metadata": {},
     "output_type": "execute_result"
    }
   ],
   "source": [
    "#gernado outra matriz\n",
    "N = np.matrix(   npr.randint(-10, 10, (3, 2)  )    )  #gera matriz de numeros inteiros aleatorios entre -10 e 10, tendo 3 linhas e 2 colunas\n",
    "N\n"
   ]
  },
  {
   "cell_type": "code",
   "execution_count": 9,
   "metadata": {},
   "outputs": [
    {
     "name": "stdout",
     "output_type": "stream",
     "text": [
      "[[ 1  2  3  4]\n",
      " [ 5  6  7  8]\n",
      " [ 9 10 11 12]]\n",
      "[[ 1  2  3  4]\n",
      " [ 5  6  7  8]\n",
      " [ 9 10 11 12]]\n",
      "Mudando o valor de A - veja que B foi modificado também\n",
      "[[-100    2    3    4]\n",
      " [   5    6    7    8]\n",
      " [   9   10   11   12]]\n",
      "[[-100    2    3    4]\n",
      " [   5    6    7    8]\n",
      " [   9   10   11   12]]\n",
      "Mudando o valor de B - veja que A foi modificado também\n",
      "[[30  2  3  4]\n",
      " [ 5  6  7  8]\n",
      " [ 9 10 11 12]]\n",
      "[[30  2  3  4]\n",
      " [ 5  6  7  8]\n",
      " [ 9 10 11 12]]\n"
     ]
    }
   ],
   "source": [
    "# Lembre que python é orientado a objetos. Assim uma simples atribuições entre duas matrizes faz com que abas apontem para o mesmo objeto\n",
    "B=A\n",
    "print(A)\n",
    "print(B)\n",
    "\n",
    "print(\"Mudando o valor de A - veja que B foi modificado também\")\n",
    "A[0,0] = -100\n",
    "print(A)\n",
    "print(B)\n",
    "\n",
    "print(\"Mudando o valor de B - veja que A foi modificado também\")\n",
    "B[0,0] = 30\n",
    "print(A)\n",
    "print(B)\n",
    "\n"
   ]
  },
  {
   "cell_type": "code",
   "execution_count": 10,
   "metadata": {},
   "outputs": [
    {
     "name": "stdout",
     "output_type": "stream",
     "text": [
      "[[30  2  3  4]\n",
      " [ 5  6  7  8]\n",
      " [ 9 10 11 12]]\n",
      "[[30  2  3  4]\n",
      " [ 5  6  7  8]\n",
      " [ 9 10 11 12]]\n",
      "Mudando o valor de A - veja que C não será afetada\n",
      "[[50  2  3  4]\n",
      " [ 5  6  7  8]\n",
      " [ 9 10 11 12]]\n",
      "[[30  2  3  4]\n",
      " [ 5  6  7  8]\n",
      " [ 9 10 11 12]]\n",
      "Mudando o valor de C - veja que A não será afetada\n",
      "[[50  2  3  4]\n",
      " [ 5  6  7  8]\n",
      " [ 9 10 11 12]]\n",
      "[[100   2   3   4]\n",
      " [  5   6   7   8]\n",
      " [  9  10  11  12]]\n"
     ]
    }
   ],
   "source": [
    "# podemos criar uma matriz copiando de uma outra matriz,\n",
    "C = np.matrix(A)\n",
    "print(A)\n",
    "print(C)\n",
    "print(\"Mudando o valor de A - veja que C não será afetada\")\n",
    "A[0,0] = 50;\n",
    "print(A)\n",
    "print(C)\n",
    "\n",
    "\n",
    "print(\"Mudando o valor de C - veja que A não será afetada\")\n",
    "C[0,0] = 100;\n",
    "print(A)\n",
    "print(C)"
   ]
  },
  {
   "cell_type": "code",
   "execution_count": 11,
   "metadata": {},
   "outputs": [
    {
     "name": "stdout",
     "output_type": "stream",
     "text": [
      "Matriz M: \n",
      "[[0. 0. 0. 0. 0.]\n",
      " [0. 0. 0. 0. 0.]\n",
      " [0. 0. 0. 0. 0.]\n",
      " [0. 0. 0. 0. 0.]]\n",
      "Matriz N: \n",
      "[[ 0  1]\n",
      " [-8  8]\n",
      " [-7  1]]\n",
      "Matriz M após a atribuição em bloco: da linha zero até a linha 3, da coluna 2 até a 4 \n",
      "[[ 0.  0.  1.  0.  0.]\n",
      " [-8.  0.  8.  0.  0.]\n",
      " [-7.  0.  1.  0.  0.]\n",
      " [ 0.  0.  0.  0.  0.]]\n"
     ]
    }
   ],
   "source": [
    "#podemos operar com blocos de matrizes\n",
    "M = np.matrix(Z)\n",
    "print(\"Matriz M: \")\n",
    "print(M)\n",
    "print(\"Matriz N: \")\n",
    "print(N)\n",
    "#M[ 0:3,  2:4  ] = N\n",
    "M[ 0:3,  0:3:2  ] = N\n",
    "print(\"Matriz M após a atribuição em bloco: da linha zero até a linha 3, da coluna 2 até a 4 \")\n",
    "print(M)"
   ]
  },
  {
   "cell_type": "code",
   "execution_count": 12,
   "metadata": {},
   "outputs": [
    {
     "name": "stdout",
     "output_type": "stream",
     "text": [
      "[[1. 0.]\n",
      " [0. 1.]]\n",
      "[[1. 0. 0. 0. 0. 0. 0. 0. 0. 0.]\n",
      " [0. 1. 0. 0. 0. 0. 0. 0. 0. 0.]\n",
      " [0. 0. 1. 0. 0. 0. 0. 0. 0. 0.]\n",
      " [0. 0. 0. 1. 0. 0. 0. 0. 0. 0.]\n",
      " [0. 0. 0. 0. 1. 0. 0. 0. 0. 0.]\n",
      " [0. 0. 0. 0. 0. 1. 0. 0. 0. 0.]\n",
      " [0. 0. 0. 0. 0. 0. 1. 0. 0. 0.]\n",
      " [0. 0. 0. 0. 0. 0. 0. 1. 0. 0.]\n",
      " [0. 0. 0. 0. 0. 0. 0. 0. 1. 0.]\n",
      " [0. 0. 0. 0. 0. 0. 0. 0. 0. 1.]]\n"
     ]
    }
   ],
   "source": [
    "#podemos fazer operações diversas com matrizes\n",
    "#criando uma matriz identidade (coluna com diagonal igual a 1)\n",
    "B = np.matrix(   np.eye(2,2)    )\n",
    "print(B)\n",
    "print(np.matrix(   np.eye(10,10)    ))\n",
    "\n"
   ]
  },
  {
   "cell_type": "code",
   "execution_count": 13,
   "metadata": {},
   "outputs": [
    {
     "name": "stdout",
     "output_type": "stream",
     "text": [
      "[[1 1]\n",
      " [2 3]]\n",
      "[[1. 0.]\n",
      " [0. 1.]]\n"
     ]
    },
    {
     "data": {
      "text/plain": [
       "matrix([[4., 0.],\n",
       "        [0., 4.]])"
      ]
     },
     "execution_count": 13,
     "metadata": {},
     "output_type": "execute_result"
    }
   ],
   "source": [
    "A = np.matrix([[1 ,1], [2 ,3]])\n",
    "print(A)\n",
    "print(B)\n",
    "#multiplicando a matriz B por um escalar\n",
    "B = 4*B\n",
    "B\n",
    "\n"
   ]
  },
  {
   "cell_type": "code",
   "execution_count": 14,
   "metadata": {},
   "outputs": [
    {
     "name": "stdout",
     "output_type": "stream",
     "text": [
      "[[1 1]\n",
      " [2 3]]\n",
      "[[4. 0.]\n",
      " [0. 4.]]\n"
     ]
    },
    {
     "data": {
      "text/plain": [
       "matrix([[5., 1.],\n",
       "        [2., 7.]])"
      ]
     },
     "execution_count": 14,
     "metadata": {},
     "output_type": "execute_result"
    }
   ],
   "source": [
    "#somando matrizes\n",
    "print(A)\n",
    "print(B)\n",
    "\n",
    "C =  A + B\n",
    "C\n"
   ]
  },
  {
   "cell_type": "code",
   "execution_count": 15,
   "metadata": {},
   "outputs": [
    {
     "name": "stdout",
     "output_type": "stream",
     "text": [
      "[[1 1]\n",
      " [2 3]]\n",
      "[[4. 0.]\n",
      " [0. 4.]]\n"
     ]
    },
    {
     "data": {
      "text/plain": [
       "matrix([[ 4.,  4.],\n",
       "        [ 8., 12.]])"
      ]
     },
     "execution_count": 15,
     "metadata": {},
     "output_type": "execute_result"
    }
   ],
   "source": [
    "#multiplicando matrizes\n",
    "\n",
    "print(A)\n",
    "print(B)\n",
    "\n",
    "D = A * B\n",
    "D\n"
   ]
  },
  {
   "cell_type": "code",
   "execution_count": 16,
   "metadata": {},
   "outputs": [
    {
     "name": "stdout",
     "output_type": "stream",
     "text": [
      "[[1 1]\n",
      " [2 3]]\n",
      "[[4. 0.]\n",
      " [0. 4.]]\n"
     ]
    },
    {
     "data": {
      "text/plain": [
       "matrix([[ 3,  4],\n",
       "        [ 8, 11]])"
      ]
     },
     "execution_count": 16,
     "metadata": {},
     "output_type": "execute_result"
    }
   ],
   "source": [
    "#podemos calcular potencia de matrizes\n",
    "\n",
    "print(A)\n",
    "print(B)\n",
    "\n",
    "E = A**2 #equivale a E = A * A (multiplica a matriz por ela mesma)\n",
    "E\n"
   ]
  },
  {
   "cell_type": "code",
   "execution_count": 17,
   "metadata": {},
   "outputs": [
    {
     "name": "stdout",
     "output_type": "stream",
     "text": [
      "[[1 1]\n",
      " [2 3]]\n",
      "[[ 3. -1.]\n",
      " [-2.  1.]]\n",
      "[[1. 0.]\n",
      " [0. 1.]]\n"
     ]
    }
   ],
   "source": [
    "#podemos calcular a inversa de uma matriz\n",
    "\n",
    "print(A)\n",
    "Ainversa = A**-1\n",
    "print(Ainversa)\n",
    "print(A * Ainversa)\n"
   ]
  },
  {
   "cell_type": "code",
   "execution_count": 18,
   "metadata": {},
   "outputs": [
    {
     "name": "stdout",
     "output_type": "stream",
     "text": [
      "[[1 1]\n",
      " [2 3]]\n",
      "[[1 2]\n",
      " [1 3]]\n"
     ]
    }
   ],
   "source": [
    "#podemos calcular a matriz transposta\n",
    "A\n",
    "print(A)\n",
    "print(np.transpose(A))\n"
   ]
  },
  {
   "cell_type": "code",
   "execution_count": 19,
   "metadata": {},
   "outputs": [
    {
     "name": "stdout",
     "output_type": "stream",
     "text": [
      "[[1 1]\n",
      " [2 3]]\n"
     ]
    },
    {
     "data": {
      "text/plain": [
       "4"
      ]
     },
     "execution_count": 19,
     "metadata": {},
     "output_type": "execute_result"
    }
   ],
   "source": [
    "#a função trace que calcula o traço da matriz (a soma dos elementos da diagonal principal)\n",
    "\n",
    "print(A)\n",
    "np.trace(A)\n"
   ]
  },
  {
   "cell_type": "code",
   "execution_count": 20,
   "metadata": {},
   "outputs": [
    {
     "name": "stdout",
     "output_type": "stream",
     "text": [
      "[[1 1]\n",
      " [2 3]]\n",
      "[[4. 0.]\n",
      " [0. 4.]]\n"
     ]
    },
    {
     "data": {
      "text/plain": [
       "matrix([[1., 1., 4., 0.],\n",
       "        [2., 3., 0., 4.]])"
      ]
     },
     "execution_count": 20,
     "metadata": {},
     "output_type": "execute_result"
    }
   ],
   "source": [
    "#podemos concatenar matrizes\n",
    "#por coluna: hstack\n",
    "\n",
    "print(A)\n",
    "print(B)\n",
    "np.hstack( (A, B) )\n"
   ]
  },
  {
   "cell_type": "code",
   "execution_count": 21,
   "metadata": {},
   "outputs": [
    {
     "name": "stdout",
     "output_type": "stream",
     "text": [
      "[[1 1]\n",
      " [2 3]]\n",
      "[[4. 0.]\n",
      " [0. 4.]]\n"
     ]
    },
    {
     "data": {
      "text/plain": [
       "matrix([[1., 1.],\n",
       "        [2., 3.],\n",
       "        [4., 0.],\n",
       "        [0., 4.]])"
      ]
     },
     "execution_count": 21,
     "metadata": {},
     "output_type": "execute_result"
    }
   ],
   "source": [
    "#concatenando por linhas (vertical): vstack\n",
    "\n",
    "print(A)\n",
    "print(B)\n",
    "np.vstack(  (A,B)   )\n"
   ]
  },
  {
   "cell_type": "code",
   "execution_count": 22,
   "metadata": {},
   "outputs": [
    {
     "name": "stdout",
     "output_type": "stream",
     "text": [
      "[[1 1]\n",
      " [2 3]]\n"
     ]
    },
    {
     "data": {
      "text/plain": [
       "matrix([[1.        , 1.        ],\n",
       "        [1.41421356, 1.73205081]])"
      ]
     },
     "execution_count": 22,
     "metadata": {},
     "output_type": "execute_result"
    }
   ],
   "source": [
    "#existem funções que se aplicam a todos os elementos de uma matriz\n",
    "\n",
    "print(A)\n",
    "\n",
    "np.sqrt(A)\n"
   ]
  }
 ],
 "metadata": {
  "kernelspec": {
   "display_name": "Python 3",
   "language": "python",
   "name": "python3"
  },
  "language_info": {
   "codemirror_mode": {
    "name": "ipython",
    "version": 3
   },
   "file_extension": ".py",
   "mimetype": "text/x-python",
   "name": "python",
   "nbconvert_exporter": "python",
   "pygments_lexer": "ipython3",
   "version": "3.11.2"
  },
  "orig_nbformat": 4
 },
 "nbformat": 4,
 "nbformat_minor": 2
}
